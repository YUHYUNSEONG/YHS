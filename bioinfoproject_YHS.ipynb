{
  "nbformat": 4,
  "nbformat_minor": 0,
  "metadata": {
    "colab": {
      "provenance": [],
      "authorship_tag": "ABX9TyPhbweIWtT8yCkKjM3nom2Z",
      "include_colab_link": true
    },
    "kernelspec": {
      "name": "python3",
      "display_name": "Python 3"
    },
    "language_info": {
      "name": "python"
    }
  },
  "cells": [
    {
      "cell_type": "markdown",
      "metadata": {
        "id": "view-in-github",
        "colab_type": "text"
      },
      "source": [
        "<a href=\"https://colab.research.google.com/github/YUHYUNSEONG/YHS/blob/master/bioinfoproject_YHS.ipynb\" target=\"_parent\"><img src=\"https://colab.research.google.com/assets/colab-badge.svg\" alt=\"Open In Colab\"/></a>"
      ]
    },
    {
      "cell_type": "markdown",
      "source": [
        "2023 생물정보학 실습 프로젝트 유현성"
      ],
      "metadata": {
        "id": "zmMxq8LHhxDz"
      }
    },
    {
      "cell_type": "markdown",
      "source": [
        "자유 주제 예시에서 mission 3 확장 부분을 진행할 예정입니다. \n",
        "2j3와 polyclonal Ab에 대해서 같은 분석을 반복해 볼 계획입니다. "
      ],
      "metadata": {
        "id": "42_L4P6z6Cfg"
      }
    },
    {
      "cell_type": "code",
      "source": [
        "from google.colab import drive\n",
        "drive.mount('/content/drive')"
      ],
      "metadata": {
        "id": "Q5wW4vBNh5Vg"
      },
      "execution_count": null,
      "outputs": []
    },
    {
      "cell_type": "code",
      "source": [
        "!git clone https://github.com/hyeshik/colab-biolab.git\n",
        "!cd colab-biolab && bash tools/setup.sh\n",
        "exec(open('colab-biolab/tools/activate_conda.py').read())"
      ],
      "metadata": {
        "id": "1uuZCKeph-D4"
      },
      "execution_count": null,
      "outputs": []
    },
    {
      "cell_type": "code",
      "source": [
        "!ls -al drive/MyDrive/binfo*"
      ],
      "metadata": {
        "id": "qJ6io6pxiGGK"
      },
      "execution_count": null,
      "outputs": []
    },
    {
      "cell_type": "code",
      "source": [
        "!conda install -y subread"
      ],
      "metadata": {
        "id": "gwfmfNdkiGuy"
      },
      "execution_count": null,
      "outputs": []
    },
    {
      "cell_type": "code",
      "source": [
        "%cd /content/drive/MyDrive/binfo1-work"
      ],
      "metadata": {
        "id": "hkMECisuiTvX"
      },
      "execution_count": null,
      "outputs": []
    }
  ]
}